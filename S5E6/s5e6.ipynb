{
 "cells": [
  {
   "cell_type": "code",
   "execution_count": 24,
   "id": "d520fbf3",
   "metadata": {},
   "outputs": [],
   "source": [
    "import pandas as pd\n",
    "import numpy as np\n",
    "from semiq_ml.baseline_model import BaselineModel\n",
    "import seaborn as sns\n",
    "import matplotlib.pyplot as plt\n",
    "\n",
    "TARGET = 'Fertilizer Name'\n",
    "SEED = 42"
   ]
  },
  {
   "cell_type": "code",
   "execution_count": 25,
   "id": "30ef463b",
   "metadata": {},
   "outputs": [],
   "source": [
    "train = pd.read_csv('train.csv')\n",
    "test = pd.read_csv('test.csv')\n",
    "\n",
    "train = train.drop(columns=['id'])\n",
    "test = test.drop(columns=['id'])"
   ]
  },
  {
   "cell_type": "code",
   "execution_count": 26,
   "id": "5bc8528c",
   "metadata": {},
   "outputs": [
    {
     "name": "stdout",
     "output_type": "stream",
     "text": [
      "<class 'pandas.core.frame.DataFrame'>\n",
      "RangeIndex: 750000 entries, 0 to 749999\n",
      "Data columns (total 9 columns):\n",
      " #   Column           Non-Null Count   Dtype \n",
      "---  ------           --------------   ----- \n",
      " 0   Temparature      750000 non-null  int64 \n",
      " 1   Humidity         750000 non-null  int64 \n",
      " 2   Moisture         750000 non-null  int64 \n",
      " 3   Soil Type        750000 non-null  object\n",
      " 4   Crop Type        750000 non-null  object\n",
      " 5   Nitrogen         750000 non-null  int64 \n",
      " 6   Potassium        750000 non-null  int64 \n",
      " 7   Phosphorous      750000 non-null  int64 \n",
      " 8   Fertilizer Name  750000 non-null  object\n",
      "dtypes: int64(6), object(3)\n",
      "memory usage: 51.5+ MB\n"
     ]
    }
   ],
   "source": [
    "train.info()\n",
    "\n",
    "train = train.sample(frac=.001, random_state=SEED).reset_index(drop=True)"
   ]
  },
  {
   "cell_type": "code",
   "execution_count": 27,
   "id": "c0bce7c4",
   "metadata": {},
   "outputs": [
    {
     "data": {
      "application/vnd.microsoft.datawrangler.viewer.v0+json": {
       "columns": [
        {
         "name": "index",
         "rawType": "object",
         "type": "string"
        },
        {
         "name": "count",
         "rawType": "float64",
         "type": "float"
        },
        {
         "name": "mean",
         "rawType": "float64",
         "type": "float"
        },
        {
         "name": "std",
         "rawType": "float64",
         "type": "float"
        },
        {
         "name": "min",
         "rawType": "float64",
         "type": "float"
        },
        {
         "name": "25%",
         "rawType": "float64",
         "type": "float"
        },
        {
         "name": "50%",
         "rawType": "float64",
         "type": "float"
        },
        {
         "name": "75%",
         "rawType": "float64",
         "type": "float"
        },
        {
         "name": "max",
         "rawType": "float64",
         "type": "float"
        }
       ],
       "ref": "80dd2e1d-41c5-41e1-bdfc-27ba39263b5a",
       "rows": [
        [
         "Temparature",
         "750.0",
         "31.482666666666667",
         "3.9508452842612187",
         "25.0",
         "28.0",
         "32.0",
         "35.0",
         "38.0"
        ],
        [
         "Humidity",
         "750.0",
         "60.834666666666664",
         "6.711238274799249",
         "50.0",
         "55.0",
         "61.0",
         "67.0",
         "72.0"
        ],
        [
         "Moisture",
         "750.0",
         "44.784",
         "11.710288288611993",
         "25.0",
         "35.0",
         "44.5",
         "55.0",
         "65.0"
        ],
        [
         "Nitrogen",
         "750.0",
         "22.805333333333333",
         "11.172251212345607",
         "4.0",
         "13.0",
         "23.0",
         "32.0",
         "42.0"
        ],
        [
         "Potassium",
         "750.0",
         "9.593333333333334",
         "5.77816046910819",
         "0.0",
         "4.25",
         "10.0",
         "15.0",
         "19.0"
        ],
        [
         "Phosphorous",
         "750.0",
         "21.732",
         "12.854278897756513",
         "0.0",
         "10.0",
         "22.0",
         "33.0",
         "42.0"
        ]
       ],
       "shape": {
        "columns": 8,
        "rows": 6
       }
      },
      "text/html": [
       "<div>\n",
       "<style scoped>\n",
       "    .dataframe tbody tr th:only-of-type {\n",
       "        vertical-align: middle;\n",
       "    }\n",
       "\n",
       "    .dataframe tbody tr th {\n",
       "        vertical-align: top;\n",
       "    }\n",
       "\n",
       "    .dataframe thead th {\n",
       "        text-align: right;\n",
       "    }\n",
       "</style>\n",
       "<table border=\"1\" class=\"dataframe\">\n",
       "  <thead>\n",
       "    <tr style=\"text-align: right;\">\n",
       "      <th></th>\n",
       "      <th>count</th>\n",
       "      <th>mean</th>\n",
       "      <th>std</th>\n",
       "      <th>min</th>\n",
       "      <th>25%</th>\n",
       "      <th>50%</th>\n",
       "      <th>75%</th>\n",
       "      <th>max</th>\n",
       "    </tr>\n",
       "  </thead>\n",
       "  <tbody>\n",
       "    <tr>\n",
       "      <th>Temparature</th>\n",
       "      <td>750.0</td>\n",
       "      <td>31.482667</td>\n",
       "      <td>3.950845</td>\n",
       "      <td>25.0</td>\n",
       "      <td>28.00</td>\n",
       "      <td>32.0</td>\n",
       "      <td>35.0</td>\n",
       "      <td>38.0</td>\n",
       "    </tr>\n",
       "    <tr>\n",
       "      <th>Humidity</th>\n",
       "      <td>750.0</td>\n",
       "      <td>60.834667</td>\n",
       "      <td>6.711238</td>\n",
       "      <td>50.0</td>\n",
       "      <td>55.00</td>\n",
       "      <td>61.0</td>\n",
       "      <td>67.0</td>\n",
       "      <td>72.0</td>\n",
       "    </tr>\n",
       "    <tr>\n",
       "      <th>Moisture</th>\n",
       "      <td>750.0</td>\n",
       "      <td>44.784000</td>\n",
       "      <td>11.710288</td>\n",
       "      <td>25.0</td>\n",
       "      <td>35.00</td>\n",
       "      <td>44.5</td>\n",
       "      <td>55.0</td>\n",
       "      <td>65.0</td>\n",
       "    </tr>\n",
       "    <tr>\n",
       "      <th>Nitrogen</th>\n",
       "      <td>750.0</td>\n",
       "      <td>22.805333</td>\n",
       "      <td>11.172251</td>\n",
       "      <td>4.0</td>\n",
       "      <td>13.00</td>\n",
       "      <td>23.0</td>\n",
       "      <td>32.0</td>\n",
       "      <td>42.0</td>\n",
       "    </tr>\n",
       "    <tr>\n",
       "      <th>Potassium</th>\n",
       "      <td>750.0</td>\n",
       "      <td>9.593333</td>\n",
       "      <td>5.778160</td>\n",
       "      <td>0.0</td>\n",
       "      <td>4.25</td>\n",
       "      <td>10.0</td>\n",
       "      <td>15.0</td>\n",
       "      <td>19.0</td>\n",
       "    </tr>\n",
       "    <tr>\n",
       "      <th>Phosphorous</th>\n",
       "      <td>750.0</td>\n",
       "      <td>21.732000</td>\n",
       "      <td>12.854279</td>\n",
       "      <td>0.0</td>\n",
       "      <td>10.00</td>\n",
       "      <td>22.0</td>\n",
       "      <td>33.0</td>\n",
       "      <td>42.0</td>\n",
       "    </tr>\n",
       "  </tbody>\n",
       "</table>\n",
       "</div>"
      ],
      "text/plain": [
       "             count       mean        std   min    25%   50%   75%   max\n",
       "Temparature  750.0  31.482667   3.950845  25.0  28.00  32.0  35.0  38.0\n",
       "Humidity     750.0  60.834667   6.711238  50.0  55.00  61.0  67.0  72.0\n",
       "Moisture     750.0  44.784000  11.710288  25.0  35.00  44.5  55.0  65.0\n",
       "Nitrogen     750.0  22.805333  11.172251   4.0  13.00  23.0  32.0  42.0\n",
       "Potassium    750.0   9.593333   5.778160   0.0   4.25  10.0  15.0  19.0\n",
       "Phosphorous  750.0  21.732000  12.854279   0.0  10.00  22.0  33.0  42.0"
      ]
     },
     "execution_count": 27,
     "metadata": {},
     "output_type": "execute_result"
    }
   ],
   "source": [
    "train.describe().T"
   ]
  },
  {
   "cell_type": "code",
   "execution_count": 28,
   "id": "d16dfa41",
   "metadata": {},
   "outputs": [
    {
     "name": "stdout",
     "output_type": "stream",
     "text": [
      "Unique values in Soil Type: 5\n",
      "Soil Type\n",
      "Sandy     166\n",
      "Black     155\n",
      "Loamy     145\n",
      "Clayey    142\n",
      "Red       142\n",
      "Name: count, dtype: int64\n",
      "Unique values in Crop Type: 11\n",
      "Crop Type\n",
      "Paddy          90\n",
      "Pulses         90\n",
      "Tobacco        69\n",
      "Maize          69\n",
      "Sugarcane      68\n",
      "Millets        66\n",
      "Barley         62\n",
      "Ground Nuts    61\n",
      "Cotton         61\n",
      "Wheat          61\n",
      "Name: count, dtype: int64\n",
      "Unique values in Fertilizer Name: 7\n",
      "Fertilizer Name\n",
      "10-26-26    126\n",
      "14-35-14    116\n",
      "DAP         116\n",
      "17-17-17    104\n",
      "20-20       104\n",
      "28-28        92\n",
      "Urea         92\n",
      "Name: count, dtype: int64\n"
     ]
    }
   ],
   "source": [
    "obj_cols = train.select_dtypes(include=['object']).columns\n",
    "\n",
    "for col in obj_cols:\n",
    "    print(f\"Unique values in {col}: {train[col].nunique()}\")\n",
    "    print(train[col].value_counts().head(10))"
   ]
  },
  {
   "cell_type": "code",
   "execution_count": 32,
   "id": "9ab81d55",
   "metadata": {},
   "outputs": [],
   "source": [
    "model = BaselineModel(\n",
    "    task_type='classification',\n",
    "    random_state=SEED,\n",
    "    metric='accuracy',\n",
    "    models='all'\n",
    ")"
   ]
  },
  {
   "cell_type": "code",
   "execution_count": 33,
   "id": "ba693d66",
   "metadata": {},
   "outputs": [
    {
     "name": "stderr",
     "output_type": "stream",
     "text": [
      "2025-06-09 18:13:02,948 - INFO - Target labels are non-numeric. Applying label encoding.\n",
      "2025-06-09 18:13:02,951 - INFO - Starting BaselineModel training for classification with metric: accuracy (Maximize: True)\n",
      "2025-06-09 18:13:02,951 - INFO - Validation set size: 20%\n",
      "2025-06-09 18:13:02,952 - INFO - Preprocessor type: general_ohe\n",
      "2025-06-09 18:13:02,952 - INFO - Numeric columns: ['Temparature', 'Humidity', 'Moisture', 'Nitrogen', 'Potassium', 'Phosphorous']\n",
      "2025-06-09 18:13:02,952 - INFO - Categorical columns: ['Soil Type', 'Crop Type']\n",
      "/home/semiqolonn/miniforge3/envs/testing/lib/python3.12/site-packages/sklearn/linear_model/_logistic.py:1288: FutureWarning: Using the 'liblinear' solver for multiclass classification is deprecated. An error will be raised in 1.8. Either use another solver which supports the multinomial loss or wrap the estimator in a OneVsRestClassifier to keep applying a one-versus-rest scheme.\n",
      "  warnings.warn(\n",
      "2025-06-09 18:13:02,965 - INFO -   Logistic Regression accuracy: 0.1133 (Training Time: 0.01s)\n",
      "2025-06-09 18:13:02,965 - INFO -   --> NEW BEST model: Logistic Regression with accuracy: 0.1133\n",
      "2025-06-09 18:13:02,966 - INFO - Preprocessor type: distance_kernel\n",
      "2025-06-09 18:13:02,966 - INFO - Numeric columns: ['Temparature', 'Humidity', 'Moisture', 'Nitrogen', 'Potassium', 'Phosphorous']\n",
      "2025-06-09 18:13:02,966 - INFO - Categorical columns: ['Soil Type', 'Crop Type']\n",
      "2025-06-09 18:13:03,043 - INFO -   SVC accuracy: 0.1000 (Training Time: 0.08s)\n",
      "2025-06-09 18:13:03,049 - INFO -   KNN accuracy: 0.1133 (Training Time: 0.00s)\n",
      "2025-06-09 18:13:03,052 - INFO -   Decision Tree accuracy: 0.1400 (Training Time: 0.00s)\n",
      "2025-06-09 18:13:03,052 - INFO -   --> NEW BEST model: Decision Tree with accuracy: 0.1400\n",
      "2025-06-09 18:13:03,158 - INFO -   Random Forest accuracy: 0.1667 (Training Time: 0.11s)\n",
      "2025-06-09 18:13:03,159 - INFO -   --> NEW BEST model: Random Forest with accuracy: 0.1667\n",
      "/home/semiqolonn/miniforge3/envs/testing/lib/python3.12/site-packages/sklearn/utils/validation.py:2749: UserWarning: X does not have valid feature names, but LGBMClassifier was fitted with feature names\n",
      "  warnings.warn(\n",
      "2025-06-09 18:13:03,278 - INFO -   LGBM accuracy: 0.1600 (Training Time: 0.12s)\n",
      "2025-06-09 18:13:03,493 - INFO -   XGBoost accuracy: 0.1400 (Training Time: 0.21s)\n",
      "2025-06-09 18:13:06,434 - INFO -   CatBoost accuracy: 0.1800 (Training Time: 2.94s)\n",
      "2025-06-09 18:13:06,434 - INFO -   --> NEW BEST model: CatBoost with accuracy: 0.1800\n",
      "2025-06-09 18:13:06,435 - INFO - BaselineModel run complete. Best model: CatBoostClassifier with accuracy: 0.1800\n"
     ]
    },
    {
     "data": {
      "text/plain": [
       "<catboost.core.CatBoostClassifier at 0x797eb54be450>"
      ]
     },
     "execution_count": 33,
     "metadata": {},
     "output_type": "execute_result"
    }
   ],
   "source": [
    "model.fit(\n",
    "    X=train.drop(columns=[TARGET]),\n",
    "    y=train[TARGET],\n",
    ")"
   ]
  },
  {
   "cell_type": "code",
   "execution_count": 34,
   "id": "e2805496",
   "metadata": {},
   "outputs": [
    {
     "data": {
      "application/vnd.microsoft.datawrangler.viewer.v0+json": {
       "columns": [
        {
         "name": "index",
         "rawType": "int64",
         "type": "integer"
        },
        {
         "name": "model",
         "rawType": "object",
         "type": "string"
        },
        {
         "name": "score",
         "rawType": "float64",
         "type": "float"
        },
        {
         "name": "time",
         "rawType": "float64",
         "type": "float"
        },
        {
         "name": "preprocessor_used",
         "rawType": "object",
         "type": "string"
        },
        {
         "name": "status",
         "rawType": "object",
         "type": "string"
        },
        {
         "name": "error_message",
         "rawType": "object",
         "type": "string"
        }
       ],
       "ref": "64e2b525-29c2-40c0-a5ae-c7e98ca5e803",
       "rows": [
        [
         "0",
         "CatBoost",
         "0.18",
         "2.9403977394104004",
         "catboost_internal",
         "Success",
         ""
        ],
        [
         "1",
         "Random Forest",
         "0.16666666666666666",
         "0.10566258430480957",
         "general_ohe",
         "Success",
         ""
        ],
        [
         "2",
         "LGBM",
         "0.16",
         "0.11907577514648438",
         "general_ohe",
         "Success",
         ""
        ],
        [
         "3",
         "Decision Tree",
         "0.14",
         "0.0033822059631347656",
         "general_ohe",
         "Success",
         ""
        ],
        [
         "4",
         "XGBoost",
         "0.14",
         "0.2144160270690918",
         "general_ohe",
         "Success",
         ""
        ],
        [
         "5",
         "Logistic Regression",
         "0.11333333333333333",
         "0.013621330261230469",
         "general_ohe",
         "Success",
         ""
        ],
        [
         "6",
         "KNN",
         "0.11333333333333333",
         "0.0049915313720703125",
         "distance_kernel",
         "Success",
         ""
        ],
        [
         "7",
         "SVC",
         "0.1",
         "0.07751584053039551",
         "distance_kernel",
         "Success",
         ""
        ]
       ],
       "shape": {
        "columns": 6,
        "rows": 8
       }
      },
      "text/html": [
       "<div>\n",
       "<style scoped>\n",
       "    .dataframe tbody tr th:only-of-type {\n",
       "        vertical-align: middle;\n",
       "    }\n",
       "\n",
       "    .dataframe tbody tr th {\n",
       "        vertical-align: top;\n",
       "    }\n",
       "\n",
       "    .dataframe thead th {\n",
       "        text-align: right;\n",
       "    }\n",
       "</style>\n",
       "<table border=\"1\" class=\"dataframe\">\n",
       "  <thead>\n",
       "    <tr style=\"text-align: right;\">\n",
       "      <th></th>\n",
       "      <th>model</th>\n",
       "      <th>score</th>\n",
       "      <th>time</th>\n",
       "      <th>preprocessor_used</th>\n",
       "      <th>status</th>\n",
       "      <th>error_message</th>\n",
       "    </tr>\n",
       "  </thead>\n",
       "  <tbody>\n",
       "    <tr>\n",
       "      <th>0</th>\n",
       "      <td>CatBoost</td>\n",
       "      <td>0.180000</td>\n",
       "      <td>2.940398</td>\n",
       "      <td>catboost_internal</td>\n",
       "      <td>Success</td>\n",
       "      <td></td>\n",
       "    </tr>\n",
       "    <tr>\n",
       "      <th>1</th>\n",
       "      <td>Random Forest</td>\n",
       "      <td>0.166667</td>\n",
       "      <td>0.105663</td>\n",
       "      <td>general_ohe</td>\n",
       "      <td>Success</td>\n",
       "      <td></td>\n",
       "    </tr>\n",
       "    <tr>\n",
       "      <th>2</th>\n",
       "      <td>LGBM</td>\n",
       "      <td>0.160000</td>\n",
       "      <td>0.119076</td>\n",
       "      <td>general_ohe</td>\n",
       "      <td>Success</td>\n",
       "      <td></td>\n",
       "    </tr>\n",
       "    <tr>\n",
       "      <th>3</th>\n",
       "      <td>Decision Tree</td>\n",
       "      <td>0.140000</td>\n",
       "      <td>0.003382</td>\n",
       "      <td>general_ohe</td>\n",
       "      <td>Success</td>\n",
       "      <td></td>\n",
       "    </tr>\n",
       "    <tr>\n",
       "      <th>4</th>\n",
       "      <td>XGBoost</td>\n",
       "      <td>0.140000</td>\n",
       "      <td>0.214416</td>\n",
       "      <td>general_ohe</td>\n",
       "      <td>Success</td>\n",
       "      <td></td>\n",
       "    </tr>\n",
       "    <tr>\n",
       "      <th>5</th>\n",
       "      <td>Logistic Regression</td>\n",
       "      <td>0.113333</td>\n",
       "      <td>0.013621</td>\n",
       "      <td>general_ohe</td>\n",
       "      <td>Success</td>\n",
       "      <td></td>\n",
       "    </tr>\n",
       "    <tr>\n",
       "      <th>6</th>\n",
       "      <td>KNN</td>\n",
       "      <td>0.113333</td>\n",
       "      <td>0.004992</td>\n",
       "      <td>distance_kernel</td>\n",
       "      <td>Success</td>\n",
       "      <td></td>\n",
       "    </tr>\n",
       "    <tr>\n",
       "      <th>7</th>\n",
       "      <td>SVC</td>\n",
       "      <td>0.100000</td>\n",
       "      <td>0.077516</td>\n",
       "      <td>distance_kernel</td>\n",
       "      <td>Success</td>\n",
       "      <td></td>\n",
       "    </tr>\n",
       "  </tbody>\n",
       "</table>\n",
       "</div>"
      ],
      "text/plain": [
       "                 model     score      time  preprocessor_used   status  \\\n",
       "0             CatBoost  0.180000  2.940398  catboost_internal  Success   \n",
       "1        Random Forest  0.166667  0.105663        general_ohe  Success   \n",
       "2                 LGBM  0.160000  0.119076        general_ohe  Success   \n",
       "3        Decision Tree  0.140000  0.003382        general_ohe  Success   \n",
       "4              XGBoost  0.140000  0.214416        general_ohe  Success   \n",
       "5  Logistic Regression  0.113333  0.013621        general_ohe  Success   \n",
       "6                  KNN  0.113333  0.004992    distance_kernel  Success   \n",
       "7                  SVC  0.100000  0.077516    distance_kernel  Success   \n",
       "\n",
       "  error_message  \n",
       "0                \n",
       "1                \n",
       "2                \n",
       "3                \n",
       "4                \n",
       "5                \n",
       "6                \n",
       "7                "
      ]
     },
     "execution_count": 34,
     "metadata": {},
     "output_type": "execute_result"
    }
   ],
   "source": [
    "model.get_results()"
   ]
  },
  {
   "cell_type": "code",
   "execution_count": null,
   "id": "6e78d32b",
   "metadata": {},
   "outputs": [],
   "source": []
  }
 ],
 "metadata": {
  "kernelspec": {
   "display_name": "base",
   "language": "python",
   "name": "python3"
  },
  "language_info": {
   "codemirror_mode": {
    "name": "ipython",
    "version": 3
   },
   "file_extension": ".py",
   "mimetype": "text/x-python",
   "name": "python",
   "nbconvert_exporter": "python",
   "pygments_lexer": "ipython3",
   "version": "3.12.10"
  }
 },
 "nbformat": 4,
 "nbformat_minor": 5
}
